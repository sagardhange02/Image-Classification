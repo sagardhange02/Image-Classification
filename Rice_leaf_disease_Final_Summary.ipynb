{
  "nbformat": 4,
  "nbformat_minor": 0,
  "metadata": {
    "colab": {
      "name": "Rice_leaf_disease_Final_Summary.ipynb",
      "provenance": [],
      "collapsed_sections": []
    },
    "kernelspec": {
      "name": "python3",
      "display_name": "Python 3"
    },
    "language_info": {
      "name": "python"
    }
  },
  "cells": [
    {
      "cell_type": "markdown",
      "source": [
        "## **Project Summary**\n",
        "\n",
        "##### The main Objective of this project is to identify the leaf which belongs to perticular class of disease by processing its image and there are three classes of three different diseases they are mentioned as below.\n",
        "##### Three classes:-\n",
        "##### 1.Brown spot\n",
        "##### 2.Bacterial leaf blight\n",
        "##### 3.Leaf smut\n",
        "\n",
        "#### In order to classify the images we have used a deep learning technique called CNN(Convolutional neural network)\n",
        "\n",
        "#### **The Layers which are used in CNN model**:-\n",
        "##### Conv layer - Convolutional Layer\n",
        "##### MaxPool2D – Maximum pooling layer is used to reduce the size of images\n",
        "##### Dropout – Dropout is a regularization technique to reduce overfitting\n",
        "##### Flatten – to convert the parrel layers to squeeze the layers\n",
        "##### Dense –  for feed-forward neural network\n",
        "##### activation function as softmax for Multi-class classification.\n",
        "\n",
        "### **CNN - Convolutional Neural Network**\n",
        "\n",
        "##### Convolutional Neural Network is a Deep Learning algorithm specially designed for working with Images and videos. It takes images as inputs, extracts and learns the features of the image, and classifies them based on the learned features.\n",
        "\n",
        "##### It has various layers and each layer has its own functioning i.e each layer extracts some information from the image or any visual and at last all the information received from each layer is combined and the image/visual is interpreted or classified.\n",
        "\n",
        "##### CNN has various filters, and each filter extracts some information from the image such as edges, different kinds of shapes (vertical, horizontal, round), and then all of these are combined to identify the image.\n",
        "\n",
        "### **Components of CNN**\n",
        "\n",
        "##### The CNN model works in two steps: feature extraction and Classification\n",
        "\n",
        "##### Feature Extraction is a phase where various filters and layers are applied to the images to extract the information and features out of it and once it’s done it is passed on to the next phase i.e Classification where they are classified based on the target variable of the problem.\n",
        "\n",
        "#### **A Typical CNN model looks like this:**\n",
        "\n",
        "##### * Input layer\n",
        "##### * Convolution layer + Activation function\n",
        "##### * Pooling layer\n",
        "##### * Fully Connected Layer\n",
        "\n",
        "###  **1. Input Layer**\n",
        "\n",
        "##### As the name says, it’s our input image and can be Grayscale or RGB. Every image is made up of pixels that range from 0 to 255. We need to normalize them i.e convert the range between 0 to 1  before passing it to the model.\n",
        "\n",
        "### **2. Convolutional Layer**\n",
        "\n",
        "##### The convolutional layer is the layer where the filter is applied to our input image to extract or detect its features. A filter is applied to the image multiple times and creates a feature map which helps in classifying the input image.\n",
        "\n",
        "### **3. Pooling Layer**\n",
        "\n",
        "##### The pooling layer is applied after the Convolutional layer and is used to reduce the dimensions of the feature map which helps in preserving the important information or features of the input image and reduces the computation time.\n",
        "\n",
        "##### Using pooling, a lower resolution version of input is created that still contains the large or important elements of the input image.\n",
        "\n",
        "##### The most common types of Pooling are Max Pooling and Average Pooling. \n",
        "\n",
        "### 4. **Fully Connected Layer**\n",
        "\n",
        "##### The Fully connected layer (as we have in ANN) is used for classifying the input image into a label. This layer connects the information extracted from the previous steps (i.e Convolution layer and Pooling layers) to the output layer and eventually classifies the input into the desired label.\n",
        "\n",
        "## **The accuracy rate :- 34% (with 1st modelling)**\n",
        "## **The accuracy rate :- 62% (with 2nd modelling)**\n",
        "## **The accuracy rate :- 100% (with 3rd modelling)**"
      ],
      "metadata": {
        "id": "qwwxyecv6zSR"
      }
    },
    {
      "cell_type": "code",
      "source": [
        ""
      ],
      "metadata": {
        "id": "p2HStdqLERv8"
      },
      "execution_count": null,
      "outputs": []
    },
    {
      "cell_type": "code",
      "source": [
        ""
      ],
      "metadata": {
        "id": "35nm6QGBC4uW"
      },
      "execution_count": null,
      "outputs": []
    },
    {
      "cell_type": "code",
      "source": [
        ""
      ],
      "metadata": {
        "id": "pyDZiGSkCYqD"
      },
      "execution_count": null,
      "outputs": []
    }
  ]
}